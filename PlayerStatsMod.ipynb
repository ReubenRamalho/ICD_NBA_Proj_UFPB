{
 "cells": [
  {
   "cell_type": "code",
   "execution_count": null,
   "metadata": {},
   "outputs": [],
   "source": [
    "players = pd.read_csv(\"C:\\myProject\\pythonNotebooks\\ICD_NBA_Proj_UFPB\\DataSets\\players.csv\")\n",
    "teams = pd.read_csv(\"C:\\myProject\\pythonNotebooks\\ICD_NBA_Proj_UFPB\\DataSets\\teams.csv\")\n",
    "games = pd.read_csv(\"C:\\myProject\\pythonNotebooks\\ICD_NBA_Proj_UFPB\\DataSets\\games.csv\")\n",
    "details = pd.read_csv(\"C:\\myProject\\pythonNotebooks\\ICD_NBA_Proj_UFPB\\DataSets\\games_details.csv\")\n",
    "ranking = pd.read_csv(\"C:\\myProject\\pythonNotebooks\\ICD_NBA_Proj_UFPB\\DataSets\\ranking.csv\")"
   ]
  }
 ],
 "metadata": {
  "kernelspec": {
   "display_name": "Python 3.10.6 64-bit",
   "language": "python",
   "name": "python3"
  },
  "language_info": {
   "name": "python",
   "version": "3.10.6"
  },
  "orig_nbformat": 4,
  "vscode": {
   "interpreter": {
    "hash": "056b152711daad1c77c3aa2613ec1a14d3cca44e6ebbe0cfd224dd2c3647cbd3"
   }
  }
 },
 "nbformat": 4,
 "nbformat_minor": 2
}
